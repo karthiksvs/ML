{
 "cells": [
  {
   "cell_type": "code",
   "execution_count": null,
   "metadata": {},
   "outputs": [],
   "source": [
    "#instal below  things\n",
    "#conda install -c conda-forge tensorflow \n",
    "#conda create -n tf tensorflow\n",
    "#conda activate tf"
   ]
  },
  {
   "cell_type": "code",
   "execution_count": 1,
   "metadata": {},
   "outputs": [
    {
     "name": "stderr",
     "output_type": "stream",
     "text": [
      "F:\\MSIT\\Data science\\anaconda\\lib\\site-packages\\h5py\\__init__.py:72: UserWarning: h5py is running against HDF5 1.10.2 when it was built against 1.10.3, this may cause problems\n",
      "  '{0}.{1}.{2}'.format(*version.hdf5_built_version_tuple)\n"
     ]
    }
   ],
   "source": [
    "# Numpy allows us to work with array.\n",
    "import numpy as np\n",
    "\n",
    "# Pandas allows us to not only import the datasets but also create the matrix of features(independent) and \n",
    "# dependent variable.\n",
    "import pandas as pd\n",
    "\n",
    "# TensorFlow has a comprehensive, flexible ecosystem of tools, libraries and community resources that lets researchers \n",
    "# push the state-of-the-art in ML and developers easily build and deploy ML powered applications.\n",
    "import tensorflow as tf"
   ]
  },
  {
   "cell_type": "code",
   "execution_count": 2,
   "metadata": {},
   "outputs": [
    {
     "name": "stdout",
     "output_type": "stream",
     "text": [
      "[[619 'France' 'Female' ... 1 1 101348.88]\n",
      " [608 'Spain' 'Female' ... 0 1 112542.58]\n",
      " [502 'France' 'Female' ... 1 0 113931.57]\n",
      " ...\n",
      " [709 'France' 'Female' ... 0 1 42085.58]\n",
      " [772 'Germany' 'Male' ... 1 0 92888.52]\n",
      " [792 'France' 'Female' ... 1 0 38190.78]]\n"
     ]
    }
   ],
   "source": [
    "dataset = pd.read_csv('Churn_Modelling.csv')\n",
    "x = dataset.iloc[:, 3:-1].values\n",
    "y = dataset.iloc[:, -1].values\n",
    "\n",
    "print(x)"
   ]
  },
  {
   "cell_type": "code",
   "execution_count": 3,
   "metadata": {},
   "outputs": [
    {
     "name": "stdout",
     "output_type": "stream",
     "text": [
      "[1 0 1 ... 1 1 0]\n"
     ]
    }
   ],
   "source": [
    "print(y)"
   ]
  },
  {
   "cell_type": "code",
   "execution_count": 4,
   "metadata": {},
   "outputs": [
    {
     "name": "stdout",
     "output_type": "stream",
     "text": [
      "[[619 'France' 0 ... 1 1 101348.88]\n",
      " [608 'Spain' 0 ... 0 1 112542.58]\n",
      " [502 'France' 0 ... 1 0 113931.57]\n",
      " ...\n",
      " [709 'France' 0 ... 0 1 42085.58]\n",
      " [772 'Germany' 1 ... 1 0 92888.52]\n",
      " [792 'France' 0 ... 1 0 38190.78]]\n"
     ]
    }
   ],
   "source": [
    "# Importing Package\n",
    "from sklearn.preprocessing import LabelEncoder\n",
    "le = LabelEncoder()\n",
    "\n",
    "x[:, 2] = le.fit_transform(x[:, 2])\n",
    "\n",
    "print(x)"
   ]
  },
  {
   "cell_type": "code",
   "execution_count": 5,
   "metadata": {},
   "outputs": [
    {
     "name": "stdout",
     "output_type": "stream",
     "text": [
      "[[1.0 0.0 0.0 ... 1 1 101348.88]\n",
      " [0.0 0.0 1.0 ... 0 1 112542.58]\n",
      " [1.0 0.0 0.0 ... 1 0 113931.57]\n",
      " ...\n",
      " [1.0 0.0 0.0 ... 0 1 42085.58]\n",
      " [0.0 1.0 0.0 ... 1 0 92888.52]\n",
      " [1.0 0.0 0.0 ... 1 0 38190.78]]\n"
     ]
    }
   ],
   "source": [
    "# Importing Package\n",
    "from sklearn.compose import ColumnTransformer\n",
    "from sklearn.preprocessing import OneHotEncoder\n",
    "\n",
    "ct = ColumnTransformer(transformers=[('encoder', OneHotEncoder(), [1])], remainder='passthrough')\n",
    "x = np.array(ct.fit_transform(x))\n",
    "\n",
    "print(x)\n",
    "# France = 1 0 0\n",
    "# Spain = 0 0 1\n",
    "# Germany = 0 1 0\n"
   ]
  },
  {
   "cell_type": "code",
   "execution_count": 6,
   "metadata": {},
   "outputs": [
    {
     "name": "stdout",
     "output_type": "stream",
     "text": [
      "[[0.0 1.0 0.0 ... 0 1 124749.08]\n",
      " [1.0 0.0 0.0 ... 0 0 41104.82]\n",
      " [0.0 1.0 0.0 ... 1 1 45750.21]\n",
      " ...\n",
      " [1.0 0.0 0.0 ... 1 1 92027.69]\n",
      " [1.0 0.0 0.0 ... 1 1 101168.9]\n",
      " [0.0 1.0 0.0 ... 1 0 33462.94]]\n"
     ]
    }
   ],
   "source": [
    "# Importing Packaage\n",
    "from sklearn.model_selection import train_test_split\n",
    "\n",
    "# Dividing training and test set.\n",
    "# The best ratio is 80 - 20 for trainging and testing respectively.\n",
    "x_train, x_test, y_train, y_test = train_test_split(x, y, test_size = 0.2, random_state = 1)\n",
    "\n",
    "print(x_train)"
   ]
  },
  {
   "cell_type": "code",
   "execution_count": 7,
   "metadata": {},
   "outputs": [
    {
     "name": "stdout",
     "output_type": "stream",
     "text": [
      "[[-0.99850112  1.71490137 -0.57273139 ... -1.55337352  0.97725852\n",
      "   0.42739449]\n",
      " [ 1.00150113 -0.58312392 -0.57273139 ... -1.55337352 -1.02327069\n",
      "  -1.02548708]\n",
      " [-0.99850112  1.71490137 -0.57273139 ...  0.64376017  0.97725852\n",
      "  -0.94479772]\n",
      " ...\n",
      " [ 1.00150113 -0.58312392 -0.57273139 ...  0.64376017  0.97725852\n",
      "  -0.14096853]\n",
      " [ 1.00150113 -0.58312392 -0.57273139 ...  0.64376017  0.97725852\n",
      "   0.01781218]\n",
      " [-0.99850112  1.71490137 -0.57273139 ...  0.64376017 -1.02327069\n",
      "  -1.15822478]]\n"
     ]
    }
   ],
   "source": [
    "# Importing Package\n",
    "from sklearn.preprocessing import StandardScaler\n",
    "\n",
    "sc = StandardScaler()\n",
    "x_train = sc.fit_transform(x_train)\n",
    "x_test = sc.fit_transform(x_test)\n",
    "\n",
    "print(x_train)"
   ]
  },
  {
   "cell_type": "code",
   "execution_count": 8,
   "metadata": {},
   "outputs": [
    {
     "name": "stdout",
     "output_type": "stream",
     "text": [
      "[[ 0.98019606 -0.56118125 -0.57812007 ...  0.65543311  0.9426421\n",
      "  -0.04925965]\n",
      " [ 0.98019606 -0.56118125 -0.57812007 ...  0.65543311 -1.06084802\n",
      "  -0.58254072]\n",
      " [ 0.98019606 -0.56118125 -0.57812007 ... -1.52570869  0.9426421\n",
      "  -0.16313933]\n",
      " ...\n",
      " [-1.02020406 -0.56118125  1.72974448 ... -1.52570869  0.9426421\n",
      "   1.07759708]\n",
      " [-1.02020406  1.78195548 -0.57812007 ...  0.65543311  0.9426421\n",
      "   1.14197101]\n",
      " [-1.02020406  1.78195548 -0.57812007 ...  0.65543311  0.9426421\n",
      "  -0.88821212]]\n"
     ]
    }
   ],
   "source": [
    "print(x_test)"
   ]
  },
  {
   "cell_type": "code",
   "execution_count": 9,
   "metadata": {},
   "outputs": [],
   "source": [
    "# An instance of the sequential class which intializes as a sequence of layers.\n",
    "ann = tf.keras.models.Sequential()\n"
   ]
  },
  {
   "cell_type": "code",
   "execution_count": 10,
   "metadata": {},
   "outputs": [
    {
     "name": "stdout",
     "output_type": "stream",
     "text": [
      "WARNING:tensorflow:From F:\\MSIT\\Data science\\anaconda\\lib\\site-packages\\tensorflow\\python\\ops\\init_ops.py:1251: calling VarianceScaling.__init__ (from tensorflow.python.ops.init_ops) with dtype is deprecated and will be removed in a future version.\n",
      "Instructions for updating:\n",
      "Call initializer instance with the dtype argument instead of passing it to the constructor\n"
     ]
    }
   ],
   "source": [
    "ann.add(tf.keras.layers.Dense(units=6, activation='relu'))"
   ]
  },
  {
   "cell_type": "code",
   "execution_count": 11,
   "metadata": {},
   "outputs": [],
   "source": [
    "ann.add(tf.keras.layers.Dense(units=6, activation='relu'))"
   ]
  },
  {
   "cell_type": "code",
   "execution_count": 12,
   "metadata": {},
   "outputs": [],
   "source": [
    "ann.add(tf.keras.layers.Dense(units=1, activation='sigmoid'))"
   ]
  },
  {
   "cell_type": "code",
   "execution_count": 13,
   "metadata": {},
   "outputs": [],
   "source": [
    "ann.compile(optimizer = 'adam', loss = 'binary_crossentropy', metrics = ['accuracy'])"
   ]
  },
  {
   "cell_type": "code",
   "execution_count": 14,
   "metadata": {},
   "outputs": [
    {
     "name": "stdout",
     "output_type": "stream",
     "text": [
      "WARNING:tensorflow:From F:\\MSIT\\Data science\\anaconda\\lib\\site-packages\\tensorflow\\python\\ops\\nn_impl.py:180: add_dispatch_support.<locals>.wrapper (from tensorflow.python.ops.array_ops) is deprecated and will be removed in a future version.\n",
      "Instructions for updating:\n",
      "Use tf.where in 2.0, which has the same broadcast rule as np.where\n",
      "Epoch 1/100\n",
      "8000/8000 [==============================] - 1s 90us/sample - loss: 0.5746 - acc: 0.7485\n",
      "Epoch 2/100\n",
      "8000/8000 [==============================] - 0s 31us/sample - loss: 0.4699 - acc: 0.7972\n",
      "Epoch 3/100\n",
      "8000/8000 [==============================] - 0s 25us/sample - loss: 0.4397 - acc: 0.7983\n",
      "Epoch 4/100\n",
      "8000/8000 [==============================] - 0s 30us/sample - loss: 0.4189 - acc: 0.8084\n",
      "Epoch 5/100\n",
      "8000/8000 [==============================] - 0s 31us/sample - loss: 0.4044 - acc: 0.8152\n",
      "Epoch 6/100\n",
      "8000/8000 [==============================] - 0s 29us/sample - loss: 0.3926 - acc: 0.82670s - loss: 0.4157 - acc: 0.\n",
      "Epoch 7/100\n",
      "8000/8000 [==============================] - 0s 28us/sample - loss: 0.3814 - acc: 0.83700s - loss: 0.3858 - acc: 0.83\n",
      "Epoch 8/100\n",
      "8000/8000 [==============================] - 0s 26us/sample - loss: 0.3726 - acc: 0.8413\n",
      "Epoch 9/100\n",
      "8000/8000 [==============================] - 0s 26us/sample - loss: 0.3660 - acc: 0.8470\n",
      "Epoch 10/100\n",
      "8000/8000 [==============================] - 0s 25us/sample - loss: 0.3611 - acc: 0.84930s - loss: 0.3574 - acc: 0.850\n",
      "Epoch 11/100\n",
      "8000/8000 [==============================] - 0s 31us/sample - loss: 0.3578 - acc: 0.85310s - loss: 0.3543 - acc: 0.85\n",
      "Epoch 12/100\n",
      "8000/8000 [==============================] - 0s 28us/sample - loss: 0.3553 - acc: 0.85340s - loss: 0.3555 - acc: 0.852\n",
      "Epoch 13/100\n",
      "8000/8000 [==============================] - 0s 26us/sample - loss: 0.3531 - acc: 0.8539\n",
      "Epoch 14/100\n",
      "8000/8000 [==============================] - 0s 27us/sample - loss: 0.3517 - acc: 0.85460s - loss: 0.3681 - acc: 0.\n",
      "Epoch 15/100\n",
      "8000/8000 [==============================] - 0s 31us/sample - loss: 0.3506 - acc: 0.8549\n",
      "Epoch 16/100\n",
      "8000/8000 [==============================] - 0s 25us/sample - loss: 0.3497 - acc: 0.8575\n",
      "Epoch 17/100\n",
      "8000/8000 [==============================] - 0s 25us/sample - loss: 0.3488 - acc: 0.8594\n",
      "Epoch 18/100\n",
      "8000/8000 [==============================] - 0s 25us/sample - loss: 0.3479 - acc: 0.86040s - loss: 0.3372 - acc: 0.86\n",
      "Epoch 19/100\n",
      "8000/8000 [==============================] - 0s 24us/sample - loss: 0.3468 - acc: 0.8611\n",
      "Epoch 20/100\n",
      "8000/8000 [==============================] - 0s 25us/sample - loss: 0.3464 - acc: 0.8611\n",
      "Epoch 21/100\n",
      "8000/8000 [==============================] - 0s 25us/sample - loss: 0.3462 - acc: 0.8605\n",
      "Epoch 22/100\n",
      "8000/8000 [==============================] - 0s 25us/sample - loss: 0.3455 - acc: 0.8626\n",
      "Epoch 23/100\n",
      "8000/8000 [==============================] - 0s 25us/sample - loss: 0.3452 - acc: 0.8624\n",
      "Epoch 24/100\n",
      "8000/8000 [==============================] - 0s 24us/sample - loss: 0.3450 - acc: 0.8612\n",
      "Epoch 25/100\n",
      "8000/8000 [==============================] - 0s 27us/sample - loss: 0.3445 - acc: 0.8609\n",
      "Epoch 26/100\n",
      "8000/8000 [==============================] - 0s 28us/sample - loss: 0.3444 - acc: 0.8618\n",
      "Epoch 27/100\n",
      "8000/8000 [==============================] - 0s 26us/sample - loss: 0.3440 - acc: 0.86100s - loss: 0.3438 - acc: 0.861\n",
      "Epoch 28/100\n",
      "8000/8000 [==============================] - 0s 28us/sample - loss: 0.3435 - acc: 0.8639\n",
      "Epoch 29/100\n",
      "8000/8000 [==============================] - 0s 26us/sample - loss: 0.3433 - acc: 0.8622\n",
      "Epoch 30/100\n",
      "8000/8000 [==============================] - 0s 25us/sample - loss: 0.3428 - acc: 0.8636\n",
      "Epoch 31/100\n",
      "8000/8000 [==============================] - 0s 25us/sample - loss: 0.3427 - acc: 0.8620\n",
      "Epoch 32/100\n",
      "8000/8000 [==============================] - 0s 25us/sample - loss: 0.3425 - acc: 0.8639\n",
      "Epoch 33/100\n",
      "8000/8000 [==============================] - 0s 25us/sample - loss: 0.3420 - acc: 0.8626\n",
      "Epoch 34/100\n",
      "8000/8000 [==============================] - 0s 27us/sample - loss: 0.3414 - acc: 0.86300s - loss: 0.3415 - acc: 0.863\n",
      "Epoch 35/100\n",
      "8000/8000 [==============================] - 0s 30us/sample - loss: 0.3418 - acc: 0.8641\n",
      "Epoch 36/100\n",
      "8000/8000 [==============================] - 0s 31us/sample - loss: 0.3414 - acc: 0.8633\n",
      "Epoch 37/100\n",
      "8000/8000 [==============================] - 0s 32us/sample - loss: 0.3409 - acc: 0.86270s - loss: 0.3492 - acc: 0\n",
      "Epoch 38/100\n",
      "8000/8000 [==============================] - 0s 31us/sample - loss: 0.3408 - acc: 0.8620\n",
      "Epoch 39/100\n",
      "8000/8000 [==============================] - 0s 27us/sample - loss: 0.3407 - acc: 0.8635\n",
      "Epoch 40/100\n",
      "8000/8000 [==============================] - 0s 32us/sample - loss: 0.3403 - acc: 0.8616\n",
      "Epoch 41/100\n",
      "8000/8000 [==============================] - 0s 29us/sample - loss: 0.3404 - acc: 0.8629\n",
      "Epoch 42/100\n",
      "8000/8000 [==============================] - 0s 29us/sample - loss: 0.3401 - acc: 0.8622\n",
      "Epoch 43/100\n",
      "8000/8000 [==============================] - 0s 27us/sample - loss: 0.3395 - acc: 0.8622\n",
      "Epoch 44/100\n",
      "8000/8000 [==============================] - 0s 29us/sample - loss: 0.3397 - acc: 0.8630\n",
      "Epoch 45/100\n",
      "8000/8000 [==============================] - 0s 29us/sample - loss: 0.3393 - acc: 0.86300s - loss: 0.3365 - acc: 0.86\n",
      "Epoch 46/100\n",
      "8000/8000 [==============================] - 0s 33us/sample - loss: 0.3394 - acc: 0.8614\n",
      "Epoch 47/100\n",
      "8000/8000 [==============================] - 0s 32us/sample - loss: 0.3395 - acc: 0.8620\n",
      "Epoch 48/100\n",
      "8000/8000 [==============================] - ETA: 0s - loss: 0.3391 - acc: 0.861 - 0s 30us/sample - loss: 0.3389 - acc: 0.8627\n",
      "Epoch 49/100\n",
      "8000/8000 [==============================] - 0s 28us/sample - loss: 0.3385 - acc: 0.8610\n",
      "Epoch 50/100\n",
      "8000/8000 [==============================] - 0s 28us/sample - loss: 0.3387 - acc: 0.8609\n",
      "Epoch 51/100\n",
      "8000/8000 [==============================] - 0s 27us/sample - loss: 0.3383 - acc: 0.8625\n",
      "Epoch 52/100\n",
      "8000/8000 [==============================] - 0s 29us/sample - loss: 0.3384 - acc: 0.8612\n",
      "Epoch 53/100\n",
      "8000/8000 [==============================] - 0s 28us/sample - loss: 0.3378 - acc: 0.8611\n",
      "Epoch 54/100\n",
      "8000/8000 [==============================] - 0s 27us/sample - loss: 0.3379 - acc: 0.8627\n",
      "Epoch 55/100\n",
      "8000/8000 [==============================] - 0s 28us/sample - loss: 0.3378 - acc: 0.8611\n",
      "Epoch 56/100\n",
      "8000/8000 [==============================] - 0s 27us/sample - loss: 0.3370 - acc: 0.8615\n",
      "Epoch 57/100\n",
      "8000/8000 [==============================] - 0s 28us/sample - loss: 0.3373 - acc: 0.8631\n",
      "Epoch 58/100\n",
      "8000/8000 [==============================] - 0s 28us/sample - loss: 0.3375 - acc: 0.8611\n",
      "Epoch 59/100\n",
      "8000/8000 [==============================] - 0s 27us/sample - loss: 0.3376 - acc: 0.8622\n",
      "Epoch 60/100\n",
      "8000/8000 [==============================] - 0s 27us/sample - loss: 0.3373 - acc: 0.8624\n",
      "Epoch 61/100\n",
      "8000/8000 [==============================] - 0s 27us/sample - loss: 0.3369 - acc: 0.8622\n",
      "Epoch 62/100\n",
      "8000/8000 [==============================] - 0s 27us/sample - loss: 0.3369 - acc: 0.8612\n",
      "Epoch 63/100\n",
      "8000/8000 [==============================] - 0s 27us/sample - loss: 0.3369 - acc: 0.8614\n",
      "Epoch 64/100\n",
      "8000/8000 [==============================] - 0s 28us/sample - loss: 0.3369 - acc: 0.8621\n",
      "Epoch 65/100\n",
      "8000/8000 [==============================] - 0s 27us/sample - loss: 0.3368 - acc: 0.8612\n",
      "Epoch 66/100\n",
      "8000/8000 [==============================] - 0s 26us/sample - loss: 0.3369 - acc: 0.8629\n",
      "Epoch 67/100\n",
      "8000/8000 [==============================] - ETA: 0s - loss: 0.3374 - acc: 0.863 - 0s 29us/sample - loss: 0.3367 - acc: 0.8625\n",
      "Epoch 68/100\n",
      "8000/8000 [==============================] - 0s 27us/sample - loss: 0.3362 - acc: 0.86300s - loss: 0.3388 - acc: 0.86\n",
      "Epoch 69/100\n",
      "8000/8000 [==============================] - 0s 26us/sample - loss: 0.3364 - acc: 0.8619\n",
      "Epoch 70/100\n",
      "8000/8000 [==============================] - 0s 27us/sample - loss: 0.3365 - acc: 0.8633\n",
      "Epoch 71/100\n",
      "8000/8000 [==============================] - 0s 27us/sample - loss: 0.3361 - acc: 0.8609\n",
      "Epoch 72/100\n",
      "8000/8000 [==============================] - 0s 26us/sample - loss: 0.3359 - acc: 0.8619\n",
      "Epoch 73/100\n"
     ]
    },
    {
     "name": "stdout",
     "output_type": "stream",
     "text": [
      "8000/8000 [==============================] - 0s 27us/sample - loss: 0.3361 - acc: 0.86150s - loss: 0.3612 - acc: 0.8\n",
      "Epoch 74/100\n",
      "8000/8000 [==============================] - 0s 25us/sample - loss: 0.3363 - acc: 0.8625\n",
      "Epoch 75/100\n",
      "8000/8000 [==============================] - 0s 25us/sample - loss: 0.3359 - acc: 0.8606\n",
      "Epoch 76/100\n",
      "8000/8000 [==============================] - 0s 25us/sample - loss: 0.3358 - acc: 0.8618\n",
      "Epoch 77/100\n",
      "8000/8000 [==============================] - 0s 25us/sample - loss: 0.3361 - acc: 0.8616\n",
      "Epoch 78/100\n",
      "8000/8000 [==============================] - 0s 26us/sample - loss: 0.3358 - acc: 0.8626\n",
      "Epoch 79/100\n",
      "8000/8000 [==============================] - 0s 25us/sample - loss: 0.3356 - acc: 0.8611\n",
      "Epoch 80/100\n",
      "8000/8000 [==============================] - ETA: 0s - loss: 0.3346 - acc: 0.8640- ETA: 0s - loss: 0.3334 - acc: 0.8 - 0s 25us/sample - loss: 0.3356 - acc: 0.8630\n",
      "Epoch 81/100\n",
      "8000/8000 [==============================] - 0s 25us/sample - loss: 0.3357 - acc: 0.8626\n",
      "Epoch 82/100\n",
      "8000/8000 [==============================] - 0s 26us/sample - loss: 0.3357 - acc: 0.8618\n",
      "Epoch 83/100\n",
      "8000/8000 [==============================] - 0s 30us/sample - loss: 0.3356 - acc: 0.8616\n",
      "Epoch 84/100\n",
      "8000/8000 [==============================] - 0s 31us/sample - loss: 0.3355 - acc: 0.8609\n",
      "Epoch 85/100\n",
      "8000/8000 [==============================] - 0s 27us/sample - loss: 0.3357 - acc: 0.8627\n",
      "Epoch 86/100\n",
      "8000/8000 [==============================] - 0s 26us/sample - loss: 0.3357 - acc: 0.8626\n",
      "Epoch 87/100\n",
      "8000/8000 [==============================] - 0s 27us/sample - loss: 0.3355 - acc: 0.8619\n",
      "Epoch 88/100\n",
      "8000/8000 [==============================] - 0s 26us/sample - loss: 0.3356 - acc: 0.8627\n",
      "Epoch 89/100\n",
      "8000/8000 [==============================] - 0s 26us/sample - loss: 0.3353 - acc: 0.8616\n",
      "Epoch 90/100\n",
      "8000/8000 [==============================] - 0s 25us/sample - loss: 0.3351 - acc: 0.8637\n",
      "Epoch 91/100\n",
      "8000/8000 [==============================] - 0s 25us/sample - loss: 0.3357 - acc: 0.86120s - loss: 0.3351 - acc: 0.862\n",
      "Epoch 92/100\n",
      "8000/8000 [==============================] - 0s 27us/sample - loss: 0.3354 - acc: 0.8619\n",
      "Epoch 93/100\n",
      "8000/8000 [==============================] - 0s 27us/sample - loss: 0.3352 - acc: 0.8625\n",
      "Epoch 94/100\n",
      "8000/8000 [==============================] - 0s 28us/sample - loss: 0.3355 - acc: 0.8601\n",
      "Epoch 95/100\n",
      "8000/8000 [==============================] - 0s 28us/sample - loss: 0.3353 - acc: 0.8611\n",
      "Epoch 96/100\n",
      "8000/8000 [==============================] - 0s 28us/sample - loss: 0.3353 - acc: 0.8610\n",
      "Epoch 97/100\n",
      "8000/8000 [==============================] - 0s 26us/sample - loss: 0.3351 - acc: 0.8612\n",
      "Epoch 98/100\n",
      "8000/8000 [==============================] - 0s 26us/sample - loss: 0.3350 - acc: 0.8614\n",
      "Epoch 99/100\n",
      "8000/8000 [==============================] - 0s 25us/sample - loss: 0.3350 - acc: 0.8625\n",
      "Epoch 100/100\n",
      "8000/8000 [==============================] - 0s 29us/sample - loss: 0.3352 - acc: 0.8618\n"
     ]
    },
    {
     "data": {
      "text/plain": [
       "<tensorflow.python.keras.callbacks.History at 0x162cc506710>"
      ]
     },
     "execution_count": 14,
     "metadata": {},
     "output_type": "execute_result"
    }
   ],
   "source": [
    "ann.fit(x_train, y_train, batch_size = 32, epochs = 100)"
   ]
  },
  {
   "cell_type": "code",
   "execution_count": 15,
   "metadata": {},
   "outputs": [],
   "source": [
    "#extras"
   ]
  },
  {
   "cell_type": "code",
   "execution_count": 16,
   "metadata": {},
   "outputs": [
    {
     "name": "stdout",
     "output_type": "stream",
     "text": [
      "[[False]]\n"
     ]
    }
   ],
   "source": [
    "print(ann.predict(sc.transform([[1, 0, 0, 600, 1, 40, 3, 60000, 2, 1, 1, 50000]])) > 0.5)"
   ]
  },
  {
   "cell_type": "code",
   "execution_count": 17,
   "metadata": {},
   "outputs": [
    {
     "name": "stdout",
     "output_type": "stream",
     "text": [
      "[[0 0]\n",
      " [0 0]\n",
      " [0 0]\n",
      " ...\n",
      " [0 0]\n",
      " [0 0]\n",
      " [0 0]]\n"
     ]
    }
   ],
   "source": [
    "# Predicting\n",
    "y_pred = ann.predict(x_test)\n",
    "y_pred = (y_pred > 0.5)\n",
    "print(np.concatenate((y_pred.reshape(len(y_pred),1), y_test.reshape(len(y_test),1)),1))"
   ]
  },
  {
   "cell_type": "code",
   "execution_count": null,
   "metadata": {},
   "outputs": [],
   "source": []
  }
 ],
 "metadata": {
  "kernelspec": {
   "display_name": "Python 3",
   "language": "python",
   "name": "python3"
  },
  "language_info": {
   "codemirror_mode": {
    "name": "ipython",
    "version": 3
   },
   "file_extension": ".py",
   "mimetype": "text/x-python",
   "name": "python",
   "nbconvert_exporter": "python",
   "pygments_lexer": "ipython3",
   "version": "3.7.3"
  }
 },
 "nbformat": 4,
 "nbformat_minor": 2
}
